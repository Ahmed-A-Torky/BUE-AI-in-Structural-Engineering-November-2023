{
 "cells": [
  {
   "attachments": {},
   "cell_type": "markdown",
   "metadata": {},
   "source": [
    "<span style=\"font-size: 300%;\">AI Applications in Structural Engineering</span>\n",
    "\n",
    "<span style=\"font-size: 300%;\">Python Tutorial - 03</span>\n",
    "\n",
    "Here you will learn how to make take Python programming to the next level.\n",
    "\n",
    "You will learn to:\n",
    "\n",
    "1. Link to Github\n",
    "2. Create Functions\n",
    "3. Create Classes\n",
    "4. Follow Best Practices\n",
    "   - Writing code in Spyder and folder handling\n",
    "   - Type hinting in Classes\n",
    "   - Document string for re-usability and quick documentation\n",
    "   - Others"
   ]
  },
  {
   "cell_type": "markdown",
   "metadata": {},
   "source": [
    "# Github\n",
    "This is a simplified way to attain files and folders from the AI Applications in Structural Engineering Repository on Github.\n",
    "I recommend checking this video in the future on your own: https://youtu.be/9bJfG1C2Z3M\n",
    "\n",
    "Or use https://desktop.github.com/\n",
    "\n",
    "**DO THIS PART ONLY ONCE:**\n",
    "\n",
    "1. Make an account on Github FIRST!\n",
    "\n",
    "2. Fork the BUE-AI-in-Structural-Engineering repo in your browser.\n",
    "\n",
    "3. Clone a Copy of YOUR Fork to your local computer. In PowerShell (Winddows) or in terminal (MacOS), cd to a directory you want to place the repo and then type:\n",
    "NOTE: Make sure you change the part \"YOUR_NAME\" in the command below!\n",
    "```python\n",
    "git clone https://github.com/YOUR_NAME/BUE-AI-in-Structural-Engineering.git\n",
    "```\n",
    "\n",
    "\n",
    "4. Change into the local BUE-AI-in-Structural-Engineering folder\n",
    "```python\n",
    "cd BUE-AI-in-Structural-Engineering\n",
    "```\n",
    "\n",
    "\n",
    "5. Create a pointer to the original version by typing:\n",
    "```python\n",
    "git remote add upstream https://github.com/Ahmed-A-Torky/BUE-AI-in-Structural-Engineering.git\n",
    "```\n",
    "\n",
    "\n",
    "**REPEAT DAILY:**\n",
    "\n",
    "6. Save the changes you want to KEEP to your local repo and your forked copy (execute inside **Your OWN** BUE-AI-in-Structural-Engineering folder):\n",
    "```python\n",
    "git add filename1 filename2 ...\n",
    "git commit -m \"SOME INSTRUCTIVE COMMENT\"\n",
    "git push\n",
    "```\n",
    "\n",
    "\n",
    "7. (OPTIONAL) Throw away the rest!\n",
    "```python\n",
    "git reset --hard\n",
    "```\n",
    "\n",
    "\n",
    "8. Get the latest from **ORIGINAL** BUE-AI-in-Structural-Engineering repo and merge changes into your own:\n",
    "```python\n",
    "git fetch upstream\n",
    "git merge upstream/master -m \"daily update\"\n",
    "```"
   ]
  },
  {
   "cell_type": "markdown",
   "metadata": {},
   "source": [
    "# Functions\n",
    "A function is a reusable block of code that performs a specific task. Functions help to organize code and make it more modular, readable, and maintainable. A function can take input arguments, perform some operations on them, and return a result."
   ]
  },
  {
   "cell_type": "code",
   "execution_count": 1,
   "metadata": {},
   "outputs": [
    {
     "name": "stdout",
     "output_type": "stream",
     "text": [
      "Hello Peter!\n",
      "1024\n"
     ]
    }
   ],
   "source": [
    "def hello_work(statement:str)->None:\n",
    "    print(statement)\n",
    "\n",
    "hello_work(\"Hello Peter!\")\n",
    "# try another\n",
    "\n",
    "def compute2x(k:float)->int: # is this correct?\n",
    "    kx2 = k*2\n",
    "    return kx2\n",
    "\n",
    "value = compute2x(512)\n",
    "print(value)\n",
    "# try another\n"
   ]
  },
  {
   "cell_type": "markdown",
   "metadata": {},
   "source": [
    "###  Python function to calculate the moment of inertia of a rectangular cross-section:\n",
    "This function takes two input parameters, b and h, which represent the width and height of the rectangular cross-section, respectively. It uses the formula for the moment of inertia of a rectangular cross-section, which is:\n",
    "![Rectangle.jpg](attachment:Rectangle.jpg)\n",
    "$$I = (b * h^3) / 12$$\n",
    "\n",
    "The function calculates the moment of inertia using this formula and returns the result using the return statement.\n",
    "\n",
    "We can call this function with different values of b and h to calculate the moment of inertia for different cross-sections. For example:"
   ]
  },
  {
   "cell_type": "code",
   "execution_count": null,
   "metadata": {},
   "outputs": [],
   "source": [
    "def moment_of_inertia(b, h):\n",
    "    \"\"\"Calculate the moment of inertia of a rectangular cross-section\"\"\"\n",
    "    I = (b * h**3) / 12\n",
    "    return I"
   ]
  },
  {
   "cell_type": "code",
   "execution_count": null,
   "metadata": {},
   "outputs": [],
   "source": [
    "# Calculate the moment of inertia of a rectangular cross-section with width 10 cm and height 20 cm\n",
    "I = moment_of_inertia(10, 20)\n",
    "print(\"The moment of inertia is:\", I, \"cm^4\")\n",
    "I = moment_of_inertia(--, --)\n",
    "print(\"The moment of inertia is:\", I, \"cm^4\")\n",
    "I = moment_of_inertia(--, --)\n",
    "print(\"The moment of inertia is:\", I, \"cm^4\")"
   ]
  },
  {
   "cell_type": "markdown",
   "metadata": {},
   "source": [
    "# Classes\n",
    "A class is a blueprint for creating objects. A class defines a set of attributes and methods that describe the behavior and properties of the objects created from the class. In other words, a class is a template for creating objects with specific characteristics and behaviors."
   ]
  },
  {
   "cell_type": "code",
   "execution_count": null,
   "metadata": {},
   "outputs": [],
   "source": [
    "class HelloWorld:\n",
    "    def greet(self):\n",
    "        print(\"Hello, World!\")\n",
    "\n",
    "hello = HelloWorld()\n",
    "hello.greet()"
   ]
  },
  {
   "cell_type": "markdown",
   "metadata": {},
   "source": [
    "###  Python class to calculate the moment of inertia of a rectangular cross-section:\n",
    "The Moment of Inertia (I) is a term used to describe the capacity of a cross-section to resist bending. It is always considered with respect to a reference axis such as X-X or Y-Y.\n",
    "\n",
    "This class is called **RectangularCrossSection** and represents a rectangular cross-section. It has two attributes: width and height, which are set in the __init__ method using the self parameter. The __init__ method is a special method called when an object is created from the class.\n",
    "\n",
    "The class also has a method called moment_of_inertia, which calculates the moment of inertia of the rectangular cross-section using the formula:\n",
    "\n",
    "$$I = (b * h^3) / 12$$\n",
    "\n",
    "The self parameter is used to refer to the object itself, so that the width and height attributes can be accessed.\n",
    "\n",
    "We can create a new RectangularCrossSection object with a specific width and height as follows:"
   ]
  },
  {
   "cell_type": "code",
   "execution_count": null,
   "metadata": {},
   "outputs": [],
   "source": [
    "class RectangularCrossSection:\n",
    "    \"\"\"A class that represents a rectangular cross-section\"\"\"\n",
    "    def __init__(self, width, height):\n",
    "        \"\"\"Initialize a new RectangularCrossSection object with the given width and height\"\"\"\n",
    "        self.width = width\n",
    "        self.height = height\n",
    "    \n",
    "    def moment_of_inertia(self):\n",
    "        \"\"\"Calculate the moment of inertia of the rectangular cross-section\"\"\"\n",
    "        I = (self.width * self.height**3) / 12\n",
    "        return I"
   ]
  },
  {
   "cell_type": "code",
   "execution_count": null,
   "metadata": {},
   "outputs": [],
   "source": [
    "# Create a new RectangularCrossSection object with width 10 cm and height 20 cm\n",
    "section = RectangularCrossSection(10, 20)\n",
    "\n",
    "# Calculate the moment of inertia of the rectangular cross-section\n",
    "I = section.moment_of_inertia()\n",
    "print(\"The moment of inertia is:\", I, \"cm^4\")"
   ]
  },
  {
   "cell_type": "markdown",
   "metadata": {},
   "source": [
    "## **Best Practices**\n",
    "   - Writing code in Spyder and folder handling\n",
    "   - Type hinting in Classes\n",
    "   - Document string for re-usability and quick documentation"
   ]
  },
  {
   "cell_type": "code",
   "execution_count": null,
   "metadata": {},
   "outputs": [],
   "source": [
    "import os\n",
    "plots_directory = \"plots\"\n",
    "if not os.path.exists(plots_directory):\n",
    "    os.makedirs(plots_directory)\n",
    "\n",
    "# make another one for \"results\" and another for \"models\""
   ]
  },
  {
   "cell_type": "code",
   "execution_count": null,
   "metadata": {},
   "outputs": [],
   "source": [
    "# More Descriptive variables:\n",
    "\n",
    "# Bad\n",
    "a = 5\n",
    "b = \"hello\"\n",
    "\n",
    "# Good\n",
    "num_of_students = 5\n",
    "greeting_message = \"hello\""
   ]
  },
  {
   "cell_type": "code",
   "execution_count": null,
   "metadata": {},
   "outputs": [],
   "source": [
    "# Docstrings:\n",
    "\n",
    "def add_numbers(a, b):\n",
    "    \"\"\"Adds two numbers and returns their sum.\"\"\"\n",
    "    return a + b\n",
    "\n",
    "# Actually ChatGPT helps us with this..."
   ]
  },
  {
   "cell_type": "code",
   "execution_count": null,
   "metadata": {},
   "outputs": [],
   "source": [
    "# PEP 8 style guide::\n",
    "\n",
    "# Bad\n",
    "def my_Function(x):\n",
    "    return x+1\n",
    "\n",
    "# Good\n",
    "def my_function(x):\n",
    "    return x + 1"
   ]
  },
  {
   "cell_type": "code",
   "execution_count": null,
   "metadata": {},
   "outputs": [],
   "source": [
    "# Comments:\n",
    "\n",
    "# Bad\n",
    "# This is a function that adds two numbers\n",
    "def add(a, b):\n",
    "    return a + b\n",
    "\n",
    "# Good\n",
    "def add(a, b):\n",
    "    # Add two numbers together\n",
    "    return a + b"
   ]
  },
  {
   "cell_type": "code",
   "execution_count": null,
   "metadata": {},
   "outputs": [],
   "source": [
    "# Exception handling:\n",
    "\n",
    "# Bad\n",
    "def divide(a, b):\n",
    "    return a / b\n",
    "\n",
    "result = divide(5, 0)\n",
    "\n",
    "# Good\n",
    "def divide(a, b):\n",
    "    try:\n",
    "        return a / b\n",
    "    except ZeroDivisionError:\n",
    "        print(\"Error: division by zero\")\n",
    "        return None\n",
    "\n",
    "result = divide(5, 0)"
   ]
  },
  {
   "cell_type": "code",
   "execution_count": null,
   "metadata": {},
   "outputs": [],
   "source": [
    "# Python code formatter:\n",
    "\n",
    "# Black can be installed by running \n",
    "#      pip install black. \n",
    "# It requires Python 3.7+ to run. \n",
    "# If you want to format Jupyter Notebooks, \n",
    "# install with \n",
    "#      pip install \"black[jupyter]\".\n",
    "\n",
    "# To run it you use: \n",
    "#      black {python_source_file_or_directory}"
   ]
  },
  {
   "cell_type": "markdown",
   "metadata": {},
   "source": [
    "## **Exercises**\n",
    "Do these exercises in the assigned \"hands-on\" time of the class.\n",
    "When answering each question, make sure you add the question number in a comment before code the answer."
   ]
  },
  {
   "cell_type": "code",
   "execution_count": null,
   "metadata": {},
   "outputs": [],
   "source": [
    "# Example\n",
    "# Exercise 0\n",
    "print(\"Hello World\")\n",
    "\n",
    "# Start a new Notebook and type your code there, then submit it to the instructors!"
   ]
  },
  {
   "cell_type": "markdown",
   "metadata": {},
   "source": [
    "### Exercise 1\n",
    "Compute with Functions: Write a function that takes the length (in meters), width (in meters), and height (in meters) of a rectangular prism as arguments and returns its volume (in cubic meters). Make sure you print your text including units.\n",
    "\n",
    "\n",
    "### Exercise 2\n",
    "Compute with Classes: Write a class that takes the length (in meters), width (in meters), and height (in meters) of a rectangular prism as arguments and returns its volume (in cubic meters). Make sure you print your text including units.\n",
    "\n",
    "\n",
    "### Exercise 3\n",
    "A Class of Beams: Create a class called Beam that represents a structural beam. The class should have the following attributes:\n",
    "\n",
    "- length (in meters)\n",
    "- width (in meters)\n",
    "- height (in meters)\n",
    "- material (a string representing the beam's material)\n",
    "- load (in Newtons)\n",
    "\n",
    "The class should also have a method called calculate_bending_stress that calculates the bending stress on the beam based on its load and geometry. The bending stress (in Pascals) can be calculated using the following formula:\n",
    "\n",
    "\n",
    "### Exercise 4\n",
    "A Class of Steel Sections: \n",
    "**First Step**: Create a class called SteelSection that represents steel sections. The class should have the following attributes:\n",
    "\n",
    "- name (a string representing the section name)\n",
    "- depth (in millimeters)\n",
    "- width (in millimeters)\n",
    "- thickness (in millimeters)\n",
    "- weight (in kilograms per meter)\n",
    "\n",
    "**Next Step**: Import the standard AISC sections from the below database (with Pandas) then convert it to a dictonary (df.to_dict('dict')) to be used internally by the SteelSection Class.\n",
    "\n",
    "AISC Sections include information on the following sections [W, M, S, HP, C, MC, L, WT, MT, ST, 2L, HSS Rectangular, HSS Circular and Pipe] sections. These are all the section types included in the current 15th edition of the AISC. Available here: https://www.aisc.org/globalassets/aisc/manual/v15.0-shapes-database/aisc-shapes-database-v15.0.xlsx\n",
    "\n",
    "**Next Step**: Add to the SteelSection Class a method called calculate_section_modulus that calculates the section modulus of the steel section. **Also**, check **if** the section modulus you computed from your method is similar to that from the database. The section modulus (Z) of a steel section can be calculated using the following equation:\n",
    "\n",
    "$$Z = \\frac{D t^2}{6} + \\frac{W t \\left(\\frac{D}{2} - \\frac{t}{2}\\right)^2}{2D}$$\n",
    "\n",
    "where:\n",
    "- Z is the section modulus (in cubic millimeters)\n",
    "- D is the depth of the section (in millimeters)\n",
    "- W is the width of the section (in millimeters)\n",
    "- t is the thickness of the section (in millimeters)\n"
   ]
  }
 ],
 "metadata": {
  "kernelspec": {
   "display_name": "Python 3",
   "language": "python",
   "name": "python3"
  },
  "language_info": {
   "codemirror_mode": {
    "name": "ipython",
    "version": 3
   },
   "file_extension": ".py",
   "mimetype": "text/x-python",
   "name": "python",
   "nbconvert_exporter": "python",
   "pygments_lexer": "ipython3",
   "version": "3.9.13"
  },
  "toc": {
   "base_numbering": 1,
   "nav_menu": {},
   "number_sections": true,
   "sideBar": true,
   "skip_h1_title": false,
   "title_cell": "Table of Contents",
   "title_sidebar": "Contents",
   "toc_cell": false,
   "toc_position": {},
   "toc_section_display": true,
   "toc_window_display": true
  }
 },
 "nbformat": 4,
 "nbformat_minor": 2
}
