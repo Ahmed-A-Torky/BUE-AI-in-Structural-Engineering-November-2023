{
 "cells": [
  {
   "attachments": {},
   "cell_type": "markdown",
   "metadata": {},
   "source": [
    "<span style=\"font-size: 300%;\">AI Applications in Structural Engineering</span>\n",
    "\n",
    "<span style=\"font-size: 300%;\">Python Tutorial - 01</span>\n",
    "\n",
    "Here you will learn how to start programming in Python.\n",
    "You will learn to:\n",
    "1. Python Programming Basics,\n",
    "2. Create List and Dictionary, \n",
    "3. Create Vectors and Matrices,\n",
    "4. Perform simple operations,\n",
    "5. Loops and If Statements.\n",
    "\n",
    "This is followed by exercises!\n"
   ]
  },
  {
   "attachments": {},
   "cell_type": "markdown",
   "metadata": {},
   "source": [
    "# Python Basics"
   ]
  },
  {
   "cell_type": "code",
   "execution_count": null,
   "metadata": {},
   "outputs": [],
   "source": [
    "# Assigning Input / Printing Output\n",
    "x = 1\n",
    "print(x)\n",
    "# Integer\n",
    "x = 512\n",
    "print(x)\n",
    "# Float\n",
    "x = 1.023482252123\n",
    "print(x)\n",
    "# String\n",
    "word = 'Hello'\n",
    "print(word)"
   ]
  },
  {
   "cell_type": "markdown",
   "metadata": {},
   "source": [
    "# Lists"
   ]
  },
  {
   "cell_type": "code",
   "execution_count": null,
   "metadata": {},
   "outputs": [],
   "source": [
    "List1 = ['a','b','c','d']\n",
    "print(List1)\n",
    "List2 = ['1','2','3','4']\n",
    "print(List2)\n",
    "List3 = [1,2,3,4]\n",
    "print(List3)\n",
    "List4 = [1.,2,3.,4]\n",
    "print(List4)"
   ]
  },
  {
   "cell_type": "markdown",
   "metadata": {},
   "source": [
    "# Dictionary"
   ]
  },
  {
   "cell_type": "code",
   "execution_count": null,
   "metadata": {},
   "outputs": [],
   "source": [
    "Dict1 = {'name':'Ahmed'}\n",
    "print(Dict1.keys())\n",
    "print(Dict1['name'])\n",
    "\n",
    "Dict2 = {'Person1':{'name':'Ahmed','age':'20'}}\n",
    "print(Dict2.keys())\n",
    "print(Dict2['Person1'])\n",
    "print(Dict2['Person1'][\"name\"])"
   ]
  },
  {
   "cell_type": "markdown",
   "metadata": {},
   "source": [
    "# Vectors and Matrices"
   ]
  },
  {
   "cell_type": "code",
   "execution_count": null,
   "metadata": {},
   "outputs": [],
   "source": [
    "# Vector - 1D\n",
    "v = [1, 2, 3]\n",
    "print(v)"
   ]
  },
  {
   "cell_type": "code",
   "execution_count": null,
   "metadata": {},
   "outputs": [],
   "source": [
    "# Vector - 2D (Matrix)\n",
    "m = [[1, 2, 3], [4, 5, 6], [7, 8, 9]]\n",
    "print(m)\n",
    "print(m[0][2])"
   ]
  },
  {
   "cell_type": "markdown",
   "metadata": {},
   "source": [
    "# Simple Operations"
   ]
  },
  {
   "cell_type": "code",
   "execution_count": null,
   "metadata": {},
   "outputs": [],
   "source": [
    "# Arithmatic Operations\n",
    "x = 3\n",
    "y = 2\n",
    "print(x + y)\n",
    "print(x - y)\n",
    "print(x * y)\n",
    "print(x / y)"
   ]
  },
  {
   "cell_type": "markdown",
   "metadata": {},
   "source": [
    "# Control statements\n",
    "- Like other languages, branching/repeating control statements such as if, for, and while can be used\n",
    "- However, it is better not to use repeated sentences as much as possible (reason will be described later)\n",
    "## if - elif - else statements"
   ]
  },
  {
   "cell_type": "code",
   "execution_count": null,
   "metadata": {},
   "outputs": [],
   "source": [
    "x1 = 1\n",
    "x2 = 2\n",
    "if x1 < x2:\n",
    "    print('x1 is less than x2')\n",
    "elif x1 == x2:\n",
    "    print('x1 is equal to x2')\n",
    "else:\n",
    "    print('x1 is greater than x2')"
   ]
  },
  {
   "cell_type": "code",
   "execution_count": null,
   "metadata": {},
   "outputs": [],
   "source": [
    "s = 'test'\n",
    "if s == 'test':\n",
    "    print('s is \\'test\\'')\n",
    "else:\n",
    "    print('s is not \\'test\\'')"
   ]
  },
  {
   "cell_type": "code",
   "execution_count": null,
   "metadata": {},
   "outputs": [],
   "source": [
    "c1 = 1\n",
    "c2 = 2\n",
    "if c1 == 1 and c2 == 2:\n",
    "    print('c1 is 1 and c2 is 2')\n",
    "else:\n",
    "    print('c1 is not 1 and / or c2 is not 2')"
   ]
  },
  {
   "cell_type": "markdown",
   "metadata": {},
   "source": [
    "## for loops"
   ]
  },
  {
   "cell_type": "code",
   "execution_count": null,
   "metadata": {},
   "outputs": [],
   "source": [
    "a = [0, 1, 2, 3]\n",
    "for i in a:\n",
    "    print(i)"
   ]
  },
  {
   "cell_type": "code",
   "execution_count": null,
   "metadata": {},
   "outputs": [],
   "source": [
    "for i in range(4):\n",
    "    print(i)"
   ]
  },
  {
   "cell_type": "code",
   "execution_count": null,
   "metadata": {},
   "outputs": [],
   "source": [
    "a = ['a', 'b', 'c', 'd']\n",
    "for i, j in enumerate(a):\n",
    "    print('a[' + str(i) + '] = ' + j)"
   ]
  },
  {
   "cell_type": "markdown",
   "metadata": {},
   "source": [
    "## while loops"
   ]
  },
  {
   "cell_type": "code",
   "execution_count": null,
   "metadata": {},
   "outputs": [],
   "source": [
    "a = 0\n",
    "while a < 10:\n",
    "    print(a)\n",
    "    a = a + 1"
   ]
  },
  {
   "cell_type": "markdown",
   "metadata": {},
   "source": [
    "## **Exercises**\n",
    "Do these exercises in the assigned \"hands-on\" time of the class.\n",
    "When answering each question, make sure you add the question number in a comment before code the answer."
   ]
  },
  {
   "cell_type": "code",
   "execution_count": null,
   "metadata": {},
   "outputs": [],
   "source": [
    "# Example\n",
    "# Exercise 0\n",
    "print(\"Hello World\")\n",
    "\n",
    "# Start a new Notebook and type your code there, then submit it to the instructors!"
   ]
  },
  {
   "cell_type": "markdown",
   "metadata": {},
   "source": [
    "### Exercise 1\n",
    "Hello, World!: Write a program that prints the message \"Hello, World! I am ready to code!\".\n",
    "\n",
    "### Exercise 2\n",
    "Simple Arithmetic: Write a program that performs basic arithmetic operations (addition, subtraction, multiplication, division) on three numbers.\n",
    "\n",
    "### Exercise 3\n",
    "FizzBuzz: Write a program that prints the numbers from 1 to 100, **but** for multiples of three print **\"Fizz\"** instead of the number and for the multiples of five print **\"Buzz\"**. For numbers which are multiples of both three and five print **\"FizzBuzz\"**.\n",
    "\n",
    "### Exercise 4\n",
    "Temperature Conversion: Write a program that prompts the user to enter a temperature in Celsius and converts it to Fahrenheit using the formula F = (C * 9/5) + 32.\n",
    "\n",
    "### Exercise 5\n",
    "Multiplication Table: Write a program that generates and prints a multiplication table for the numbers 1 through 10. Each number shall take one Row. Therefore, you should have a 2D table!\n",
    "hint: You can use the end=\"\\t\" argument to separate each product with a tab character, which helps to align the table.\n",
    "\n",
    "### Exercise 6\n",
    "Principal Stresses: Write a program that calculates the principal stresses for a given set of stresses. The program should prompt the user to enter the normal stress and shear stress components, and then calculate and print the principal stresses.\n",
    "\n",
    "**Note:**\n",
    "\n",
    "Mean stress:\n",
    "The mean stress, $\\sigma_{mean}$, represents the average of the normal stresses in the x and y directions and is given by:\n",
    "\n",
    "$$\\sigma_{mean} = \\frac{\\sigma_x + \\sigma_y}{2}$$\n",
    "\n",
    "where $\\sigma_x$ and $\\sigma_y$ are the normal stresses in the x and y directions, respectively.\n",
    "\n",
    "Deviatoric stress:\n",
    "The deviatoric stress, $\\sigma_{dev}$, represents the difference between the normal stresses and is given by:\n",
    "\n",
    "$$\\sigma_{dev} = \\frac{\\sqrt{(\\sigma_x - \\sigma_y)^2 + 4\\tau^2}}{2}$$\n",
    "\n",
    "where $\\tau$ is the shear stress and $\\sqrt{}$ represents the square root function.\n",
    "\n",
    "Maximum principal stress:\n",
    "The maximum principal stress, $\\sigma_1$, represents the maximum resultant stress on a plane and is given by:\n",
    "\n",
    "$$\\sigma_1 = \\sigma_{mean} + \\sigma_{dev}$$\n",
    "\n",
    "Minimum principal stress:\n",
    "The minimum principal stress, $\\sigma_2$, represents the minimum resultant stress on a plane and is given by:\n",
    "\n",
    "$$\\sigma_2 = \\sigma_{mean} - \\sigma_{dev}$$\n",
    "\n",
    "Note that these equations can be used to determine the maximum and minimum resultant stresses on two orthogonal planes through a point in a material, which are known as the principal stresses. The direction of maximum shear stress is also perpendicular to the planes of maximum and minimum principal stresses."
   ]
  }
 ],
 "metadata": {
  "kernelspec": {
   "display_name": "Python 3",
   "language": "python",
   "name": "python3"
  },
  "language_info": {
   "codemirror_mode": {
    "name": "ipython",
    "version": 3
   },
   "file_extension": ".py",
   "mimetype": "text/x-python",
   "name": "python",
   "nbconvert_exporter": "python",
   "pygments_lexer": "ipython3",
   "version": "3.9.13"
  },
  "toc": {
   "base_numbering": 1,
   "nav_menu": {},
   "number_sections": true,
   "sideBar": true,
   "skip_h1_title": false,
   "title_cell": "Table of Contents",
   "title_sidebar": "Contents",
   "toc_cell": false,
   "toc_position": {},
   "toc_section_display": true,
   "toc_window_display": true
  }
 },
 "nbformat": 4,
 "nbformat_minor": 2
}
